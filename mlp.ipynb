{
 "cells": [
  {
   "cell_type": "code",
   "execution_count": 1,
   "metadata": {},
   "outputs": [],
   "source": [
    "import torch\n",
    "import torch.nn.functional as F\n",
    "import matplotlib.pyplot as plt\n",
    "%matplotlib inline"
   ]
  },
  {
   "cell_type": "code",
   "execution_count": null,
   "metadata": {},
   "outputs": [],
   "source": [
    "# Load data\n",
    "with open(\"names.txt\", \"r\", encoding=\"utf-8\") as f:\n",
    "    names = f.read().splitlines()\n",
    "\n",
    "chars = sorted(list(set(\"\".join(names))))\n",
    "\n",
    "stoi = {s: i + 1 for i, s in enumerate(chars)}\n",
    "stoi[\".\"] = 0\n",
    "itos = {i: s for s, i in stoi.items()}"
   ]
  },
  {
   "cell_type": "code",
   "execution_count": 3,
   "metadata": {},
   "outputs": [],
   "source": [
    "# Build the dataset\n",
    "block_size = 3\n",
    "\n",
    "def build_dataset(words):\n",
    "    X, Y = [], []\n",
    "\n",
    "    for word in words:\n",
    "        context = [0] * block_size\n",
    "\n",
    "        for char in word + \".\":\n",
    "            token = stoi[char]\n",
    "            X.append(context)\n",
    "            Y.append(token)\n",
    "            context = context[1:] + [token]\n",
    "\n",
    "    X = torch.tensor(X)\n",
    "    Y = torch.tensor(Y)\n",
    "    print(X.shape, Y.shape)\n",
    "    return X, Y"
   ]
  },
  {
   "cell_type": "code",
   "execution_count": 4,
   "metadata": {},
   "outputs": [
    {
     "name": "stdout",
     "output_type": "stream",
     "text": [
      "torch.Size([182480, 3]) torch.Size([182480])\n",
      "torch.Size([22749, 3]) torch.Size([22749])\n",
      "torch.Size([22917, 3]) torch.Size([22917])\n"
     ]
    }
   ],
   "source": [
    "# Split up training, validation, test sets\n",
    "\n",
    "import random\n",
    "random.shuffle(names)\n",
    "n1 = int(0.8 * len(names))\n",
    "n2 = int(0.9 * len(names))\n",
    "\n",
    "Xtr, Ytr = build_dataset(names[:n1])\n",
    "Xdev, Ydev = build_dataset(names[n1:n2])\n",
    "Xte, Yte = build_dataset(names[n2:]) "
   ]
  },
  {
   "cell_type": "code",
   "execution_count": 105,
   "metadata": {},
   "outputs": [],
   "source": [
    "class Linear:\n",
    "\n",
    "    def __init__(self, fan_in: int, fan_out: int, bias:bool=True):\n",
    "        self.weight = torch.randn((fan_in, fan_out)) / fan_in**0.5\n",
    "        self.bias = torch.randn(fan_out) if bias else None\n",
    "\n",
    "    def __call__(self, x: torch.Tensor) -> torch.Tensor:\n",
    "        self.out = x @ self.weight\n",
    "        if self.bias is not None:\n",
    "            self.out += self.bias\n",
    "        return self.out\n",
    "\n",
    "    def parameters(self):\n",
    "        return [self.weight] + ([] if self.bias is None else [self.bias])\n",
    "\n",
    "class BatchNorm1d:\n",
    "\n",
    "    def __init__(self, dim: int, eps: float=1e-5, momentum: float=0.1):\n",
    "        self.momentum = momentum\n",
    "        self.eps = eps\n",
    "        self.training = True\n",
    "        self.running_mean = torch.ones((1, dim))\n",
    "        self.running_var = torch.zeros((1, dim))\n",
    "        self.gain = torch.ones((1, dim))\n",
    "        self.bias = torch.zeros((1, dim))\n",
    "\n",
    "    def __call__(self, x: torch.Tensor):\n",
    "        if self.training:\n",
    "            x_mean = x.mean(0, keepdim=True)\n",
    "            x_var = x.var(0, keepdim=True)\n",
    "        else:\n",
    "            x_mean = self.running_mean\n",
    "            x_var = self.running_var\n",
    "\n",
    "        # Normalize\n",
    "        xhat = (x - x_mean) / torch.sqrt(x_var + self.eps)\n",
    "        self.out = self.gain * xhat + self.bias\n",
    "\n",
    "        if self.training:\n",
    "            # Running stats\n",
    "            with torch.no_grad():\n",
    "                self.running_mean = (1 - self.momentum) * self.running_mean + self.momentum * x_mean\n",
    "                self.running_var = (1 - self.momentum) * self.running_var + self.momentum * x_var\n",
    "        \n",
    "        return self.gain * (x - x_mean) / x_var + self.bias\n",
    "\n",
    "    def parameters(self) -> list[torch.Tensor]:\n",
    "        return [self.gain, self.bias]\n",
    "\n",
    "class Tanh:\n",
    "    def __call__(self, x):\n",
    "        self.out = torch.tanh(x)\n",
    "        return self.out\n",
    "        \n",
    "\n",
    "    def parameters(self):\n",
    "        return []"
   ]
  },
  {
   "cell_type": "code",
   "execution_count": 106,
   "metadata": {},
   "outputs": [
    {
     "name": "stdout",
     "output_type": "stream",
     "text": [
      "12097\n"
     ]
    }
   ],
   "source": [
    "vocab_size = len(stoi.keys())\n",
    "embedding_size = 10\n",
    "hidden_size = 200\n",
    "\n",
    "C = torch.randn((vocab_size, embedding_size))\n",
    "layers = [\n",
    "    Linear(embedding_size * block_size, hidden_size, bias=False), BatchNorm1d(hidden_size), Tanh(),\n",
    "    Linear(hidden_size, vocab_size),\n",
    "]\n",
    "\n",
    "# Param init\n",
    "with torch.no_grad():\n",
    "    layers[-1].weight *= 0.1 # Make the last layer less confident\n",
    "\n",
    "parameters = [C] + [p for layer in layers for p in layer.parameters()]\n",
    "print(sum(p.nelement() for p in parameters))\n",
    "for p in parameters:\n",
    "    p.requires_grad = True"
   ]
  },
  {
   "cell_type": "code",
   "execution_count": 107,
   "metadata": {},
   "outputs": [
    {
     "name": "stdout",
     "output_type": "stream",
     "text": [
      "      0/2000000: 3.6199\n",
      "  10000/2000000: 2.1675\n",
      "  20000/2000000: 2.6014\n",
      "  30000/2000000: 2.1431\n",
      "  40000/2000000: 2.3884\n",
      "  50000/2000000: 1.8408\n",
      "  60000/2000000: 1.8843\n",
      "  70000/2000000: 2.7445\n",
      "  80000/2000000: 2.1415\n",
      "  90000/2000000: 2.5392\n",
      " 100000/2000000: 2.3680\n",
      " 110000/2000000: 2.1752\n",
      " 120000/2000000: 2.1710\n",
      " 130000/2000000: 1.9797\n",
      " 140000/2000000: 2.2489\n",
      " 150000/2000000: 2.4057\n",
      " 160000/2000000: 2.5833\n",
      " 170000/2000000: 2.1312\n",
      " 180000/2000000: 2.2822\n",
      " 190000/2000000: 1.8204\n",
      " 200000/2000000: 2.1840\n",
      " 210000/2000000: 1.9097\n",
      " 220000/2000000: 2.1071\n",
      " 230000/2000000: 1.8752\n",
      " 240000/2000000: 2.1295\n",
      " 250000/2000000: 1.7789\n",
      " 260000/2000000: 2.4175\n",
      " 270000/2000000: 2.2578\n",
      " 280000/2000000: 2.0341\n",
      " 290000/2000000: 2.0111\n",
      " 300000/2000000: 2.1889\n",
      " 310000/2000000: 2.1699\n",
      " 320000/2000000: 1.8922\n",
      " 330000/2000000: 2.3911\n",
      " 340000/2000000: 1.8432\n",
      " 350000/2000000: 2.2223\n"
     ]
    }
   ],
   "source": [
    "max_steps = 2000000\n",
    "minibatch_size = 32\n",
    "\n",
    "# Training\n",
    "for i in range(max_steps):\n",
    "    # Construct minibatch\n",
    "    minibatch_ixs = torch.randint(0, Xtr.shape[0], (minibatch_size,))\n",
    "    Xb, Yb = Xtr[minibatch_ixs], Ytr[minibatch_ixs]\n",
    "    \n",
    "    # Forward pass\n",
    "    emb = C[Xb]\n",
    "    x = emb.view(emb.shape[0], -1)\n",
    "\n",
    "    for layer in layers:\n",
    "        x = layer(x)\n",
    "    loss = F.cross_entropy(x, Yb)\n",
    "\n",
    "    # Backward\n",
    "    for p in parameters:\n",
    "        p.grad = None\n",
    "    loss.backward()\n",
    "\n",
    "    # Update\n",
    "    lr = 0.1 if i < 150000 else 0.01\n",
    "    for p in parameters:\n",
    "        p.data += -lr * p.grad\n",
    "\n",
    "    # Track stats\n",
    "    losses.append(loss.log10().item())\n",
    "    steps.append(i)\n",
    "    if i % 10000 == 0:\n",
    "        print(f\"{i:7d}/{max_steps:7d}: {loss.item():0.4f}\")"
   ]
  },
  {
   "cell_type": "code",
   "execution_count": null,
   "metadata": {},
   "outputs": [],
   "source": [
    "plt.plot(steps, losses)\n",
    "plt.show()"
   ]
  },
  {
   "cell_type": "code",
   "execution_count": null,
   "metadata": {},
   "outputs": [],
   "source": [
    "# Post training\n",
    "for layer in layers:\n",
    "    layer.training = False"
   ]
  },
  {
   "cell_type": "code",
   "execution_count": 77,
   "metadata": {},
   "outputs": [
    {
     "name": "stdout",
     "output_type": "stream",
     "text": [
      "Training: 2.0681\n",
      "Dev: 2.0681\n"
     ]
    }
   ],
   "source": [
    "@torch.no_grad()\n",
    "def split_loss(X, Y):\n",
    "    emb = C[Xtr]\n",
    "    embcat = emb.view(emb.shape[0], -1)\n",
    "    hpreact = embcat @ W1 + b1\n",
    "    hpreact = bn_gain * (hpreact - bn_mean_running) / bn_std_running + bn_bias\n",
    "    h = torch.tanh(hpreact)\n",
    "    logits = h @ W2 + b2\n",
    "    loss = F.cross_entropy(logits, Ytr)\n",
    "    return loss.item()\n",
    "\n",
    "print(f\"Training: {split_loss(Xtr, Ytr):.4f}\")\n",
    "print(f\"Dev: {split_loss(Xdev, Ydev):.4f}\")"
   ]
  },
  {
   "cell_type": "code",
   "execution_count": 86,
   "metadata": {},
   "outputs": [
    {
     "name": "stdout",
     "output_type": "stream",
     "text": [
      "duza\n",
      "ffandrandren\n",
      "cafisseden\n",
      "maditon\n",
      "josioksagust\n",
      "rog\n",
      "kovijahzav\n",
      "sahmontavivtangasyn\n",
      "mic\n",
      "casslynn\n"
     ]
    }
   ],
   "source": [
    "# Sample\n",
    "for _ in range(10):\n",
    "    name = []\n",
    "    context = [0] * block_size\n",
    "\n",
    "    while True:\n",
    "        embs = C[torch.tensor([context])]\n",
    "        h = torch.tanh(embs.view(1, -1) @ W1 + b1)\n",
    "        logits = h @ W2 + b2\n",
    "        probs = F.softmax(logits, dim=1)\n",
    "        token = torch.multinomial(probs, num_samples=1).item()\n",
    "        context = context[1:] + [token]\n",
    "        if token == 0:\n",
    "            break\n",
    "        else:\n",
    "            name.append(itos[token])\n",
    "\n",
    "    print(\"\".join(name))"
   ]
  }
 ],
 "metadata": {
  "kernelspec": {
   "display_name": "Python 3",
   "language": "python",
   "name": "python3"
  },
  "language_info": {
   "codemirror_mode": {
    "name": "ipython",
    "version": 3
   },
   "file_extension": ".py",
   "mimetype": "text/x-python",
   "name": "python",
   "nbconvert_exporter": "python",
   "pygments_lexer": "ipython3",
   "version": "3.11.9"
  }
 },
 "nbformat": 4,
 "nbformat_minor": 2
}
